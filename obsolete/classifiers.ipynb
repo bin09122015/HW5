{
 "cells": [
  {
   "cell_type": "code",
   "execution_count": 30,
   "metadata": {
    "collapsed": true
   },
   "outputs": [],
   "source": [
    "%matplotlib inline \n",
    "\n",
    "import sys\n",
    "import os\n",
    "import statistics\n",
    " \n",
    "import numpy as np\n",
    "import pandas as pd\n",
    "import matplotlib.pyplot as plt\n",
    "\n",
    "trainX = pd.read_csv('trainingData.txt','\\t', header = None)\n",
    "trainX.drop(trainX.columns[len(trainX.columns)-1], axis = 1, inplace = True)\n",
    "trainY = pd.read_csv(\"trainingTruth.txt\", header = None, names = ['Y'])\n",
    "df = trainX.join(trainY)\n",
    "# relax the limit a bit, since the cross_val_score is dropping with 1\n",
    "index = df.isnull().sum(axis=1) <= 2\n",
    "df = df[index]\n",
    "df.fillna(df.median(), inplace = True)  \n",
    "# Is it better to delete the rows with NA in the training? Fill in median could mislead the classifier.\n",
    "# How about dropping all the rows with NA using the following line?\n",
    "# df.dropna(axis=0, inplace=True) # drop the row with NA in training.\n",
    "X = df.iloc[:,0:-1].values\n",
    "Y = df['Y'].values"
   ]
  },
  {
   "cell_type": "code",
   "execution_count": 31,
   "metadata": {
    "collapsed": true
   },
   "outputs": [],
   "source": [
    "from sklearn.linear_model import LogisticRegression\n",
    "from sklearn.naive_bayes import GaussianNB\n",
    "from sklearn.ensemble import RandomForestClassifier\n",
    "from sklearn.ensemble import VotingClassifier, AdaBoostClassifier\n",
    "# Need to upgrade scikit-learn: 0.16.1-np110py34_0 --> 0.17-np110py34_1\n",
    "from sklearn.cross_validation import cross_val_score\n",
    "\n",
    "from sklearn.tree import DecisionTreeClassifier\n",
    "from sklearn.neighbors import KNeighborsClassifier\n",
    "from sklearn.svm import SVC\n",
    "clf1 = LogisticRegression(random_state=1)\n",
    "clf2 = RandomForestClassifier(random_state=1, n_estimators=20)\n",
    "clf3 = GaussianNB()\n",
    "\n",
    "clf4 = DecisionTreeClassifier(max_depth=4)\n",
    "clf5 = KNeighborsClassifier(n_neighbors=7)\n",
    "clf6 = SVC(kernel='rbf', probability=True)\n",
    "\n",
    "eclf1 = VotingClassifier(estimators=[('lr', clf1), ('rf', clf2), ('gnb', clf3),\n",
    "                                     ('dt', clf4), ('kn', clf5), ('svc', clf6)], \n",
    "                         voting='hard')\n",
    "eclf2 = VotingClassifier(estimators=[('lr', clf1), ('rf', clf2), ('gnb', clf3),\n",
    "                                     ('dt', clf4), ('kn', clf5), ('svc', clf6)], \n",
    "                         voting='soft')\n",
    "#eclf3 = VotingClassifier(estimators=[('lr', clf1), ('rf', clf2), ('gnb', clf3)], voting='soft', weights=[2,1,1])"
   ]
  },
  {
   "cell_type": "code",
   "execution_count": 4,
   "metadata": {
    "collapsed": false
   },
   "outputs": [
    {
     "name": "stdout",
     "output_type": "stream",
     "text": [
      "hard voting 0.853845957819 0.00799991819654\n",
      "soft voting 0.868338889238 0.00540095906608\n"
     ]
    }
   ],
   "source": [
    "score1 = cross_val_score(eclf1, X, Y, cv=10)\n",
    "score2 = cross_val_score(eclf2, X, Y, cv=10)\n",
    "#score3 = cross_val_score(eclf3, X, Y, cv=10)\n",
    "\n",
    "print('hard voting', np.mean(score1), np.std(score1))\n",
    "print('soft voting', np.mean(score2), np.std(score2))\n",
    "#print('soft voting by weight', np.mean(score3), np.std(score3))"
   ]
  },
  {
   "cell_type": "code",
   "execution_count": 4,
   "metadata": {
    "collapsed": false
   },
   "outputs": [
    {
     "name": "stdout",
     "output_type": "stream",
     "text": [
      "hard voting 0.887770306248 0.006194520852\n",
      "soft voting 0.889523889502 0.00437884476615\n"
     ]
    }
   ],
   "source": [
    "# Reduce X dimension, Test if the results stay the same\n",
    "from sklearn.decomposition import PCA\n",
    "from sklearn import preprocessing\n",
    "\n",
    "X_scaled = preprocessing.scale(X)\n",
    "X_PCA = PCA(n_components=30).fit_transform(X_scaled)\n",
    "\n",
    "score1 = cross_val_score(eclf1, X_PCA, Y, cv=10)\n",
    "score2 = cross_val_score(eclf2, X_PCA, Y, cv=10)\n",
    "\n",
    "print('hard voting', np.mean(score1), np.std(score1))\n",
    "print('soft voting', np.mean(score2), np.std(score2))"
   ]
  },
  {
   "cell_type": "code",
   "execution_count": 5,
   "metadata": {
    "collapsed": false
   },
   "outputs": [
    {
     "name": "stdout",
     "output_type": "stream",
     "text": [
      "[ 0.84805195  0.85324675  0.84535413  0.84015595  0.86289799  0.84795322\n",
      "  0.84080572  0.85045514  0.84980494  0.84710475]\n",
      "[ 0.86753247  0.87792208  0.86159844  0.8602989   0.87264457  0.86159844\n",
      "  0.87004548  0.86345904  0.87516255  0.86532206]\n",
      "[ 0.87012987  0.87727273  0.86419753  0.85834958  0.87979207  0.86289799\n",
      "  0.86224821  0.86736021  0.86345904  0.86662329]\n",
      "[ 0.81688312  0.82012987  0.80116959  0.79597141  0.82131254  0.79922027\n",
      "  0.79402209  0.78153446  0.79323797  0.81522446]\n",
      "[ 0.87727273  0.88051948  0.8648473   0.87069526  0.88304094  0.86419753\n",
      "  0.87719298  0.86996099  0.87711313  0.870527  ]\n",
      "[ 0.90584416  0.91038961  0.90253411  0.89408707  0.90643275  0.90903184\n",
      "  0.89993502  0.90052016  0.91092328  0.90761223]\n"
     ]
    }
   ],
   "source": [
    "from sklearn.decomposition import PCA\n",
    "from sklearn import preprocessing\n",
    "\n",
    "X_scaled = preprocessing.scale(X)\n",
    "X_PCA = PCA(n_components=30).fit_transform(X_scaled)\n",
    "\n",
    "print(cross_val_score(clf1, X_PCA, Y, cv=10))\n",
    "print(cross_val_score(clf2, X_PCA, Y, cv=10))\n",
    "print(cross_val_score(clf3, X_PCA, Y, cv=10))\n",
    "print(cross_val_score(clf4, X_PCA, Y, cv=10))\n",
    "print(cross_val_score(clf5, X_PCA, Y, cv=10))\n",
    "print(cross_val_score(clf6, X_PCA, Y, cv=10))"
   ]
  },
  {
   "cell_type": "markdown",
   "metadata": {},
   "source": [
    "### SVC is most accurate."
   ]
  },
  {
   "cell_type": "code",
   "execution_count": null,
   "metadata": {
    "collapsed": false
   },
   "outputs": [],
   "source": [
    "from sklearn.decomposition import PCA\n",
    "from sklearn import preprocessing\n",
    "\n",
    "X_scaled = preprocessing.scale(X)\n",
    "X_PCA = PCA(n_components=30).fit_transform(X_scaled)\n",
    "\n",
    "clf7 = AdaBoostClassifier(random_state=1, base_estimator=clf6, algorithm='SAMME.R')\n",
    "print(cross_val_score(clf7, X_PCA, Y, cv=10))"
   ]
  }
 ],
 "metadata": {
  "kernelspec": {
   "display_name": "Python 3",
   "language": "python",
   "name": "python3"
  },
  "language_info": {
   "codemirror_mode": {
    "name": "ipython",
    "version": 3
   },
   "file_extension": ".py",
   "mimetype": "text/x-python",
   "name": "python",
   "nbconvert_exporter": "python",
   "pygments_lexer": "ipython3",
   "version": "3.4.3"
  }
 },
 "nbformat": 4,
 "nbformat_minor": 0
}
