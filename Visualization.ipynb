{
 "cells": [
  {
   "cell_type": "code",
   "execution_count": 5,
   "metadata": {
    "collapsed": false
   },
   "outputs": [
    {
     "name": "stdout",
     "output_type": "stream",
     "text": [
      "(15770, 300) (15770,)\n"
     ]
    }
   ],
   "source": [
    "import sys\n",
    "import os\n",
    "\n",
    "import numpy as np\n",
    "\n",
    "f = open(\"trainingData.txt\")\n",
    "rows = [];\n",
    "while True:\n",
    "    row = f.readline()\n",
    "    if row == \"\": break\n",
    "    features = [float(number) if number != 'NA' else -5.0 for number in row.split()]\n",
    "    rows.append(features)\n",
    "f.close()\n",
    "\n",
    "X = np.array(rows)\n",
    "\n",
    "f = open(\"trainingTruth.txt\")\n",
    "rows = [];\n",
    "while True:\n",
    "    row = f.readline()\n",
    "    if row == \"\": break\n",
    "    rows.append(float(row))\n",
    "f.close()\n",
    "\n",
    "Y = np.array(rows)\n"
   ]
  },
  {
   "cell_type": "code",
   "execution_count": 7,
   "metadata": {
    "collapsed": false
   },
   "outputs": [
    {
     "name": "stdout",
     "output_type": "stream",
     "text": [
      "finished SVD\n"
     ]
    }
   ],
   "source": [
    "import matplotlib.pyplot as plt\n",
    "from sklearn import decomposition\n",
    "\n",
    "svd = decomposition.PCA(n_components=2)\n",
    "X_centered = X - np.mean(X, axis=0)\n",
    "X_2d = svd.fit_transform(X_centered)\n",
    "\n",
    "print ('finished SVD')\n",
    "\n",
    "plt.scatter(X_2d[:,0], X_2d[:,1], c=Y, s = 50, cmap=plt.cm.prism)\n",
    "plt.xlabel('PC1')\n",
    "plt.ylabel('PC2')\n",
    "plt.title('First two PCs using training data')\n",
    "plt.show()\n"
   ]
  },
  {
   "cell_type": "code",
   "execution_count": null,
   "metadata": {
    "collapsed": true
   },
   "outputs": [],
   "source": []
  }
 ],
 "metadata": {
  "kernelspec": {
   "display_name": "Python 3",
   "language": "python",
   "name": "python3"
  },
  "language_info": {
   "codemirror_mode": {
    "name": "ipython",
    "version": 3
   },
   "file_extension": ".py",
   "mimetype": "text/x-python",
   "name": "python",
   "nbconvert_exporter": "python",
   "pygments_lexer": "ipython3",
   "version": "3.4.3"
  }
 },
 "nbformat": 4,
 "nbformat_minor": 0
}
