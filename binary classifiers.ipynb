{
 "cells": [
  {
   "cell_type": "code",
   "execution_count": 11,
   "metadata": {
    "collapsed": true
   },
   "outputs": [],
   "source": [
    "import sys\n",
    "import os\n",
    "import statistics\n",
    " \n",
    "import numpy as np\n",
    "import pandas as pd\n",
    "import matplotlib.pyplot as plt\n",
    "\n",
    "from sklearn.tree import DecisionTreeClassifier\n",
    "from sklearn.neighbors import KNeighborsClassifier\n",
    "from sklearn.svm import SVC\n",
    "from sklearn.linear_model import LogisticRegression\n",
    "from sklearn.naive_bayes import GaussianNB\n",
    "from sklearn.ensemble import RandomForestClassifier\n",
    "from sklearn.ensemble import VotingClassifier, AdaBoostClassifier\n",
    "# Need to upgrade scikit-learn: 0.16.1-np110py34_0 --> 0.17-np110py34_1\n",
    "from sklearn.cross_validation import cross_val_score\n",
    "\n",
    "from sklearn.decomposition import PCA\n",
    "from sklearn import preprocessing\n",
    "from sklearn.metrics import accuracy_score"
   ]
  },
  {
   "cell_type": "code",
   "execution_count": 12,
   "metadata": {
    "collapsed": true
   },
   "outputs": [],
   "source": [
    "def trainAndPredict(clf, trainX, trainY, testX, dimensionReduction = True, n_components = 30):    \n",
    "    n_train = len(trainX)\n",
    "    n_test = len(testX)\n",
    "    X = np.concatenate((trainX, testX), axis=0)\n",
    "    \n",
    "    if dimensionReduction:        \n",
    "        X = preprocessing.scale(X)\n",
    "        X = PCA(n_components=n_components).fit_transform(X)\n",
    "    \n",
    "    trainX = X[0:n_train]\n",
    "    testX = X[n_train: n_train+n_test+1]\n",
    "    \n",
    "    \n",
    "    if len(trainY.shape) > 1:\n",
    "        proba = np.zeros((len(testX),3))\n",
    "        for i in range(trainY.shape[1]):\n",
    "            clf = clf.fit(trainX,trainY[:,i])\n",
    "            proba[:,i] = clf.predict_proba(testX)[:,1]\n",
    "        prediction = np.argmax(proba, axis=1) + 1\n",
    "    else:\n",
    "        clf = clf.fit(trainX, trainY)\n",
    "        proba = clf.predict_proba(testX)\n",
    "        prediction = clf.predict(testX)\n",
    "\n",
    "    # Write to file\n",
    "    results = pd.DataFrame(proba)\n",
    "    results['prediction'] = prediction\n",
    "        \n",
    "    return results\n",
    "\n",
    "# fill in na according to their labels\n",
    "def fillna(df, label):\n",
    "    df_sub = df[df['Y'] == label]\n",
    "    df_sub = df_sub.fillna(df_sub.median())\n",
    "    return df_sub"
   ]
  },
  {
   "cell_type": "code",
   "execution_count": 13,
   "metadata": {
    "collapsed": false
   },
   "outputs": [
    {
     "name": "stdout",
     "output_type": "stream",
     "text": [
      "Training data length 13813\n"
     ]
    }
   ],
   "source": [
    "# Deal with input data\n",
    "trainX = pd.read_csv('trainingData.txt','\\t', header = None)\n",
    "trainX.drop(trainX.columns[len(trainX.columns)-1], axis = 1, inplace = True)\n",
    "trainY = pd.read_csv(\"trainingTruth.txt\", header = None, names = ['Y'])\n",
    "df = pd.concat([trainX, trainY], axis=1)\n",
    "index = df.isnull().sum(axis=1) <= 1\n",
    "df = df[index]\n",
    "\n",
    "df1 = fillna(df, 1)\n",
    "df2 = fillna(df, 2)\n",
    "df3 = fillna(df, 3)\n",
    "\n",
    "df = pd.concat([df1, df2, df3])\n",
    "\n",
    "print('Training data length', len(df))\n",
    "\n",
    "X = df.iloc[:,0:-1].values\n",
    "Y = df['Y'].values\n",
    "\n",
    "Y_binary = np.ones((len(Y),3)) * (-1)\n",
    "for i in range(3):\n",
    "    index = Y == (i+1)\n",
    "    Y_binary[index,i] = 1\n",
    "\n",
    "testX = pd.read_csv('testData.txt','\\t', header = None)\n",
    "testX.drop(testX.columns[len(testX.columns)-1], axis = 1, inplace = True)\n",
    "testX.fillna(testX.median(), inplace = True) # Handle NA in test data, although not necessary for this assignment.\n",
    "\n",
    "# Build classifiers\n",
    "clf1 = LogisticRegression(random_state=1)\n",
    "clf2 = RandomForestClassifier(random_state=1, n_estimators=20)\n",
    "clf3 = GaussianNB()\n",
    "\n",
    "clf4 = DecisionTreeClassifier(max_depth=4)\n",
    "clf5 = KNeighborsClassifier(n_neighbors=7)\n",
    "clf6 = SVC(kernel='rbf', probability=True)\n",
    "clf7 = AdaBoostClassifier(random_state=1)\n",
    "\n",
    "eclf = VotingClassifier(estimators=[('lr', clf1), ('rf', clf2), ('gnb', clf3),\n",
    "                                     ('dt', clf4), ('kn', clf5), ('svc', clf6),\n",
    "                                     ('ab', clf7)], voting='soft')"
   ]
  },
  {
   "cell_type": "code",
   "execution_count": 21,
   "metadata": {
    "collapsed": false
   },
   "outputs": [
    {
     "name": "stdout",
     "output_type": "stream",
     "text": [
      "[ 1.  1.  1. ...,  1.  1.  1.]\n"
     ]
    }
   ],
   "source": [
    "# Get results, write to file, and print out training accuracy\n",
    "#results_training = trainAndPredict(eclf, X, Y_binary, X)\n",
    "#print('training accuracy',accuracy_score(Y, results_training['prediction']))\n",
    "\n",
    "# binary predictions\n",
    "#results_test= trainAndPredict(clf6, X, Y_binary, testX)\n",
    "\n",
    "#results_test.to_csv('testY.txt', sep='\\t', header = False, index = False)\n",
    "\n",
    "from sklearn.multiclass import OneVsRestClassifier\n",
    "results = OneVsRestClassifier(clf1).fit(X, Y).predict_proba(testX)\n",
    "print(np.sum(results, axis = 1))"
   ]
  },
  {
   "cell_type": "code",
   "execution_count": 16,
   "metadata": {
    "collapsed": false
   },
   "outputs": [
    {
     "data": {
      "text/plain": [
       "array([[ 0.01185474,  0.02623709,  0.96190817],\n",
       "       [ 0.09861403,  0.67431667,  0.2270693 ],\n",
       "       [ 0.00413735,  0.02134037,  0.97452229],\n",
       "       ..., \n",
       "       [ 0.93826255,  0.0559656 ,  0.00577185],\n",
       "       [ 0.43262956,  0.47015414,  0.0972163 ],\n",
       "       [ 0.81808891,  0.18081096,  0.00110012]])"
      ]
     },
     "execution_count": 16,
     "metadata": {},
     "output_type": "execute_result"
    }
   ],
   "source": [
    "clf1.fit(X, Y).predict_proba(testX)"
   ]
  },
  {
   "cell_type": "code",
   "execution_count": 22,
   "metadata": {
    "collapsed": true
   },
   "outputs": [],
   "source": [
    "mclf = OneVsRestClassifier(clf1)\n",
    "\n",
    "# Cross validation\n",
    "from sklearn.cross_validation import ShuffleSplit,KFold\n",
    "\n",
    "ss = ShuffleSplit(n=len(Y), n_iter=10, test_size=0.2, random_state=1)\n",
    "#kf = KFold(len(Y), n_folds=10)"
   ]
  },
  {
   "cell_type": "code",
   "execution_count": 24,
   "metadata": {
    "collapsed": false
   },
   "outputs": [
    {
     "name": "stdout",
     "output_type": "stream",
     "text": [
      "0.848715164676\n",
      "0.849077090119\n",
      "0.837495475932\n",
      "0.846543612016\n",
      "0.853058269996\n",
      "0.849800941006\n",
      "0.844372059356\n",
      "0.851610568223\n",
      "0.847629388346\n",
      "0.847629388346\n",
      "0.847593195802 0.0040961582612\n"
     ]
    }
   ],
   "source": [
    "scores = []\n",
    "for train, test in ss:\n",
    "    results = mclf.fit(X[train], Y[train]).predict(X[test])\n",
    "    score = accuracy_score(Y[test], results)\n",
    "    scores.append(score)\n",
    "    print(score)\n",
    "                  \n",
    "print(np.mean(scores),np.std(scores))"
   ]
  },
  {
   "cell_type": "code",
   "execution_count": 25,
   "metadata": {
    "collapsed": false
   },
   "outputs": [
    {
     "name": "stdout",
     "output_type": "stream",
     "text": [
      "0.848715164676\n",
      "0.849077090119\n",
      "0.837495475932\n",
      "0.846543612016\n",
      "0.853058269996\n",
      "0.849800941006\n",
      "0.844372059356\n",
      "0.851610568223\n",
      "0.847629388346\n",
      "0.847629388346\n",
      "0.847593195802 0.0040961582612\n"
     ]
    }
   ],
   "source": [
    "scores = []\n",
    "for train, test in ss:\n",
    "    results = clf1.fit(X[train], Y[train]).predict(X[test])\n",
    "    score = accuracy_score(Y[test], results)\n",
    "    scores.append(score)\n",
    "    print(score)\n",
    "                  \n",
    "print(np.mean(scores),np.std(scores))"
   ]
  },
  {
   "cell_type": "code",
   "execution_count": 26,
   "metadata": {
    "collapsed": false
   },
   "outputs": [
    {
     "name": "stdout",
     "output_type": "stream",
     "text": [
      "0.844372059356\n",
      "0.85884907709\n",
      "0.835685848715\n",
      "0.844733984799\n",
      "0.846543612016\n",
      "0.846543612016\n",
      "0.846181686573\n",
      "0.852696344553\n",
      "0.845095910242\n",
      "0.847629388346\n",
      "0.846833152371 0.00563674913758\n"
     ]
    }
   ],
   "source": [
    "# Cross validation\n",
    "from sklearn.cross_validation import ShuffleSplit,KFold\n",
    "\n",
    "#ss = ShuffleSplit(n=len(Y), n_iter=10, test_size=0.2, random_state=1)\n",
    "#kf = KFold(len(Y), n_folds=10)\n",
    "scores = []\n",
    "for train, test in ss:\n",
    "    results = trainAndPredict(clf1, X[train], Y_binary[train], X[test])\n",
    "    score = accuracy_score(Y[test], results['prediction'])\n",
    "    scores.append(score)\n",
    "    print(score)\n",
    "                  \n",
    "print(np.mean(scores),np.std(scores))"
   ]
  },
  {
   "cell_type": "code",
   "execution_count": 74,
   "metadata": {
    "collapsed": false
   },
   "outputs": [
    {
     "name": "stdout",
     "output_type": "stream",
     "text": [
      "[ 0.  0.  1.] [ 0.5  1.   1. ] [ 1.   0.9  0.8] 1.0\n"
     ]
    }
   ],
   "source": [
    "import numpy as np\n",
    "from sklearn import metrics\n",
    "from __future__ import division\n",
    "y = np.array([1, 1, 2, 2])\n",
    "pred = np.array([0.8, 0.8, 0.9, 1])\n",
    "fpr, tpr, thresholds = metrics.roc_curve(y, pred, pos_label=2)\n",
    "score = metrics.auc(fpr, tpr)\n",
    "print(fpr, tpr, thresholds, score)"
   ]
  }
 ],
 "metadata": {
  "kernelspec": {
   "display_name": "Python 3",
   "language": "python",
   "name": "python3"
  },
  "language_info": {
   "codemirror_mode": {
    "name": "ipython",
    "version": 3
   },
   "file_extension": ".py",
   "mimetype": "text/x-python",
   "name": "python",
   "nbconvert_exporter": "python",
   "pygments_lexer": "ipython3",
   "version": "3.4.3"
  }
 },
 "nbformat": 4,
 "nbformat_minor": 0
}
