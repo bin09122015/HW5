{
 "cells": [
  {
   "cell_type": "code",
   "execution_count": 22,
   "metadata": {
    "collapsed": false
   },
   "outputs": [],
   "source": [
    "%matplotlib inline \n",
    "import numpy as np\n",
    "import pandas as pd\n",
    "import matplotlib.pyplot as plt\n",
    "\n",
    "from sklearn.ensemble import RandomForestClassifier\n",
    "from sklearn.cross_validation import cross_val_score\n",
    "\n",
    "trainX = pd.read_csv('trainingData.txt','\\t', header = None)\n",
    "trainX.drop(trainX.columns[len(trainX.columns)-1], axis = 1, inplace = True)\n",
    "trainY = pd.read_csv(\"trainingTruth.txt\", header = None, names = ['Y'])\n",
    "df = trainX.join(trainY)\n",
    "# df.fillna(df.median(), inplace = True)\n",
    "# Is it better to delete the rows with NA in the training? Fill in median could mislead the classifier.\n",
    "# How about dropping all the rows with NA using the following line?\n",
    "df.dropna(axis=0, inplace=True) # drop the row with NA in training.\n",
    "X = df.iloc[:,0:-1].values\n",
    "Y = df['Y'].values\n",
    "\n",
    "clf = RandomForestClassifier(n_estimators=20)\n",
    "clf.fit(X, Y)\n",
    "\n",
    "testX = pd.read_csv('testData.txt','\\t', header = None)\n",
    "testX.drop(testX.columns[len(testX.columns)-1], axis = 1, inplace = True)\n",
    "testX.dropna(axis=0, inplace=True) # drop the row with NA in training.\n",
    "#X_test = testX.values\n",
    "\n",
    "proba = clf.predict_proba(testX)\n",
    "prediction = clf.predict(testX)\n",
    "results = pd.DataFrame(proba)\n"
   ]
  },
  {
   "cell_type": "code",
   "execution_count": 12,
   "metadata": {
    "collapsed": false
   },
   "outputs": [
    {
     "data": {
      "text/plain": [
       "Int64Index([  0,   1,   2,   3,   4,   5,   6,   7,   8,   9, \n",
       "            ...\n",
       "            291, 292, 293, 294, 295, 296, 297, 298, 299, 300],\n",
       "           dtype='int64', length=301)"
      ]
     },
     "execution_count": 12,
     "metadata": {},
     "output_type": "execute_result"
    }
   ],
   "source": [
    "trainX.columns"
   ]
  },
  {
   "cell_type": "raw",
   "metadata": {},
   "source": []
  }
 ],
 "metadata": {
  "kernelspec": {
   "display_name": "Python 3",
   "language": "python",
   "name": "python3"
  },
  "language_info": {
   "codemirror_mode": {
    "name": "ipython",
    "version": 3
   },
   "file_extension": ".py",
   "mimetype": "text/x-python",
   "name": "python",
   "nbconvert_exporter": "python",
   "pygments_lexer": "ipython3",
   "version": "3.4.3"
  }
 },
 "nbformat": 4,
 "nbformat_minor": 0
}
