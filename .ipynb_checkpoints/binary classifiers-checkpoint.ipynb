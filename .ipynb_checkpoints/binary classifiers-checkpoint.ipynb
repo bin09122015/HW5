{
 "cells": [
  {
   "cell_type": "code",
   "execution_count": 24,
   "metadata": {
    "collapsed": true
   },
   "outputs": [],
   "source": [
    "import sys\n",
    "import os\n",
    "import statistics\n",
    " \n",
    "import numpy as np\n",
    "import pandas as pd\n",
    "import matplotlib.pyplot as plt\n",
    "\n",
    "from sklearn.tree import DecisionTreeClassifier\n",
    "from sklearn.neighbors import KNeighborsClassifier\n",
    "from sklearn.svm import SVC\n",
    "from sklearn.linear_model import LogisticRegression\n",
    "from sklearn.naive_bayes import GaussianNB\n",
    "from sklearn.ensemble import RandomForestClassifier\n",
    "from sklearn.ensemble import VotingClassifier, AdaBoostClassifier\n",
    "# Need to upgrade scikit-learn: 0.16.1-np110py34_0 --> 0.17-np110py34_1\n",
    "from sklearn.cross_validation import cross_val_score\n",
    "\n",
    "from sklearn.decomposition import PCA\n",
    "from sklearn import preprocessing\n",
    "from sklearn.metrics import accuracy_score"
   ]
  },
  {
   "cell_type": "code",
   "execution_count": 32,
   "metadata": {
    "collapsed": false
   },
   "outputs": [
    {
     "name": "stdout",
     "output_type": "stream",
     "text": [
      "15388\n"
     ]
    }
   ],
   "source": [
    "# Deal with input data\n",
    "trainX = pd.read_csv('trainingData.txt','\\t', header = None)\n",
    "trainX.drop(trainX.columns[len(trainX.columns)-1], axis = 1, inplace = True)\n",
    "trainY = pd.read_csv(\"trainingTruth.txt\", header = None, names = ['Y'])\n",
    "df = pd.concat([trainX, trainY], axis=1)\n",
    "index = df.isnull().sum(axis=1) <= 2\n",
    "df = df[index]\n",
    "df.fillna(df.median(), inplace = True)\n",
    "print(len(df))\n",
    "\n",
    "X = df.iloc[:,0:-1].values\n",
    "Y = df['Y'].values\n",
    "\n",
    "Y_binary = np.ones((len(Y),3)) * (-1)\n",
    "for i in range(3):\n",
    "    index = Y == (i+1)\n",
    "    Y_binary[index,i] = 1\n",
    "    \n",
    "testX = pd.read_csv('testData.txt','\\t', header = None)\n",
    "testX.drop(testX.columns[len(testX.columns)-1], axis = 1, inplace = True)\n",
    "testX.fillna(testX.median(), inplace = True) # Handle NA in test data, although not necessary for this assignment.\n",
    "\n",
    "# Build classifiers\n",
    "clf1 = LogisticRegression(random_state=1)\n",
    "clf2 = RandomForestClassifier(random_state=1, n_estimators=20)\n",
    "clf3 = GaussianNB()\n",
    "\n",
    "clf4 = DecisionTreeClassifier(max_depth=4)\n",
    "clf5 = KNeighborsClassifier(n_neighbors=7)\n",
    "clf6 = SVC(kernel='rbf', probability=True)\n",
    "clf7 = AdaBoostClassifier(random_state=1)\n",
    "\n",
    "eclf = VotingClassifier(estimators=[('lr', clf1), ('rf', clf2), ('gnb', clf3),\n",
    "                                     ('dt', clf4), ('kn', clf5), ('svc', clf6)], \n",
    "                        voting='soft', weights = [1, 10, 1, 1, 3, 5])"
   ]
  },
  {
   "cell_type": "code",
   "execution_count": 33,
   "metadata": {
    "collapsed": false
   },
   "outputs": [
    {
     "name": "stdout",
     "output_type": "stream",
     "text": [
      "          0         1         2  prediction\n",
      "0  0.002256  0.933967  0.100353           2\n",
      "1  0.014982  0.193912  0.827777           3\n",
      "2  0.076582  0.714661  0.120055           2\n",
      "3  0.169212  0.682064  0.162383           2\n",
      "4  0.904984  0.088362  0.037636           1\n",
      "5  0.781714  0.200660  0.002888           1\n",
      "6  0.003356  0.065897  0.974542           3\n",
      "7  0.928351  0.055013  0.027072           1\n",
      "8  0.034312  0.890239  0.031078           2\n",
      "9  0.894429  0.105813  0.038408           1\n"
     ]
    },
    {
     "data": {
      "text/plain": [
       "0.97881466077462953"
      ]
     },
     "execution_count": 33,
     "metadata": {},
     "output_type": "execute_result"
    }
   ],
   "source": [
    "def trainAndPredict(clf, trainX, trainY, testX, dimensionReduction = True, n_components = 30):\n",
    "    if dimensionReduction:        \n",
    "        trainX = preprocessing.scale(trainX)\n",
    "        trainX = PCA(n_components=n_components).fit_transform(trainX)\n",
    "        \n",
    "        testX = preprocessing.scale(testX)\n",
    "        testX = PCA(n_components=n_components).fit_transform(testX)\n",
    "\n",
    "    proba = np.zeros((len(testX),3))\n",
    "    for i in range(trainY.shape[1]):\n",
    "        clf = clf.fit(trainX,trainY[:,i])\n",
    "        proba[:,i] = clf.predict_proba(testX)[:,1]\n",
    "\n",
    "    # Write to file\n",
    "    results = pd.DataFrame(proba)\n",
    "    results['prediction'] = np.argmax(proba, axis=1) + 1\n",
    "        \n",
    "    print(results.iloc[0:10,:])\n",
    "    return results\n",
    "\n",
    "# Get results, write to file, and print out training accuracy\n",
    "results = trainAndPredict(eclf, X, Y_binary, X)\n",
    "#results.to_csv('testY.txt', sep='\\t', header = False, index = False)\n",
    "print('training accuracy',accuracy_score(Y, results['prediction']))"
   ]
  },
  {
   "cell_type": "code",
   "execution_count": null,
   "metadata": {
    "collapsed": true
   },
   "outputs": [],
   "source": [
    "from sklearn.cross_validation import StratifiedKFold\n",
    "\n"
   ]
  }
 ],
 "metadata": {
  "kernelspec": {
   "display_name": "Python 3",
   "language": "python",
   "name": "python3"
  },
  "language_info": {
   "codemirror_mode": {
    "name": "ipython",
    "version": 3
   },
   "file_extension": ".py",
   "mimetype": "text/x-python",
   "name": "python",
   "nbconvert_exporter": "python",
   "pygments_lexer": "ipython3",
   "version": "3.4.3"
  }
 },
 "nbformat": 4,
 "nbformat_minor": 0
}
